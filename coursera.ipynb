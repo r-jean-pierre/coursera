{
  "metadata": {
    "kernelspec": {
      "name": "python",
      "display_name": "Python (Pyodide)",
      "language": "python"
    },
    "language_info": {
      "codemirror_mode": {
        "name": "python",
        "version": 3
      },
      "file_extension": ".py",
      "mimetype": "text/x-python",
      "name": "python",
      "nbconvert_exporter": "python",
      "pygments_lexer": "ipython3",
      "version": "3.8"
    }
  },
  "nbformat_minor": 4,
  "nbformat": 4,
  "cells": [
    {
      "cell_type": "markdown",
      "source": "# Yves Notebook",
      "metadata": {}
    },
    {
      "cell_type": "markdown",
      "source": "This is a markdonw introduction with no formatting",
      "metadata": {}
    },
    {
      "cell_type": "markdown",
      "source": "data science languages\n* python\n* R\n* scala",
      "metadata": {}
    },
    {
      "cell_type": "markdown",
      "source": "data science libraries\n* caret\n* scikit-learn\n* pytorch",
      "metadata": {}
    },
    {
      "cell_type": "markdown",
      "source": " Data Science tools\n * Jupyter Notebook\n * TensorFlow\n * Apache Spark",
      "metadata": {}
    },
    {
      "cell_type": "markdown",
      "source": "markdown cell introducing arithmetic expression: 2*3+1",
      "metadata": {}
    },
    {
      "cell_type": "code",
      "source": "2*3+1",
      "metadata": {
        "trusted": true
      },
      "outputs": [
        {
          "execution_count": 2,
          "output_type": "execute_result",
          "data": {
            "text/plain": "7"
          },
          "metadata": {}
        }
      ],
      "execution_count": 2
    },
    {
      "cell_type": "code",
      "source": "minutes = 150\nprint(f\"{minutes}min is equivelent to {minutes/60.}H\")",
      "metadata": {
        "trusted": true
      },
      "outputs": [
        {
          "name": "stdout",
          "text": "150min is equivelent to 2.5H\n",
          "output_type": "stream"
        }
      ],
      "execution_count": 4
    },
    {
      "cell_type": "markdown",
      "source": "a markdown cell to listlist Objectives:\n* use markdown\n* use code",
      "metadata": {}
    },
    {
      "cell_type": "markdown",
      "source": "markdown cell to indicate the Author's name: My Name\n",
      "metadata": {}
    }
  ]
}